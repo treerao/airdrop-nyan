{
 "cells": [
  {
   "cell_type": "code",
   "execution_count": 1,
   "metadata": {},
   "outputs": [],
   "source": [
    "import requests\n",
    "import pandas as pd\n",
    "import numpy as np"
   ]
  },
  {
   "cell_type": "code",
   "execution_count": 2,
   "metadata": {},
   "outputs": [],
   "source": [
    "# suppress scientific notation for large wei numbers\n",
    "pd.set_option('display.float_format', lambda x: '%.3f' % x)"
   ]
  },
  {
   "cell_type": "markdown",
   "metadata": {},
   "source": [
    "## Get data"
   ]
  },
  {
   "cell_type": "markdown",
   "metadata": {},
   "source": [
    "#### load nyan_strategy data"
   ]
  },
  {
   "cell_type": "code",
   "execution_count": 3,
   "metadata": {},
   "outputs": [],
   "source": [
    "# nyan_strategy_raw = requests.get(\"https://api.covalenthq.com/v1/42161/tokens/0x7864BA11676B8cc286a7367b3cfd504968920B3a/token_holders/?block-height=672014&page-size=3000&key=REDACTED\")\n"
   ]
  },
  {
   "cell_type": "code",
   "execution_count": 4,
   "metadata": {},
   "outputs": [],
   "source": [
    "# nyan_strategy_stakers = pd.DataFrame(nyan_strategy_raw.json()['data']['items'])"
   ]
  },
  {
   "cell_type": "code",
   "execution_count": 5,
   "metadata": {},
   "outputs": [],
   "source": [
    "# nyan_strategy_stakers.to_csv('NYANSTRATEGY-stakers-at-block-672014-raw.csv', index=False)\n",
    "nyan_strategy_stakers = pd.read_csv('./NYANSTRATEGY-stakers-at-block-672014-raw.csv')"
   ]
  },
  {
   "cell_type": "code",
   "execution_count": 6,
   "metadata": {},
   "outputs": [
    {
     "data": {
      "text/html": [
       "<div>\n",
       "<style scoped>\n",
       "    .dataframe tbody tr th:only-of-type {\n",
       "        vertical-align: middle;\n",
       "    }\n",
       "\n",
       "    .dataframe tbody tr th {\n",
       "        vertical-align: top;\n",
       "    }\n",
       "\n",
       "    .dataframe thead th {\n",
       "        text-align: right;\n",
       "    }\n",
       "</style>\n",
       "<table border=\"1\" class=\"dataframe\">\n",
       "  <thead>\n",
       "    <tr style=\"text-align: right;\">\n",
       "      <th></th>\n",
       "      <th>contract_name</th>\n",
       "      <th>contract_ticker_symbol</th>\n",
       "      <th>contract_address</th>\n",
       "      <th>address</th>\n",
       "      <th>balance</th>\n",
       "      <th>block_height</th>\n",
       "    </tr>\n",
       "  </thead>\n",
       "  <tbody>\n",
       "    <tr>\n",
       "      <th>0</th>\n",
       "      <td>NYAN Stake Shares</td>\n",
       "      <td>NYAN-SHARES</td>\n",
       "      <td>0x7864ba11676b8cc286a7367b3cfd504968920b3a</td>\n",
       "      <td>0x6af235d2bbe050e6291615b71ca5829658810142</td>\n",
       "      <td>133164538479811653099091</td>\n",
       "      <td>672014</td>\n",
       "    </tr>\n",
       "    <tr>\n",
       "      <th>1</th>\n",
       "      <td>NYAN Stake Shares</td>\n",
       "      <td>NYAN-SHARES</td>\n",
       "      <td>0x7864ba11676b8cc286a7367b3cfd504968920b3a</td>\n",
       "      <td>0x5fb8b9512684d451d4e585a1a0aabfb48a253c67</td>\n",
       "      <td>110752296490852968420319</td>\n",
       "      <td>672014</td>\n",
       "    </tr>\n",
       "    <tr>\n",
       "      <th>2</th>\n",
       "      <td>NYAN Stake Shares</td>\n",
       "      <td>NYAN-SHARES</td>\n",
       "      <td>0x7864ba11676b8cc286a7367b3cfd504968920b3a</td>\n",
       "      <td>0x6e26d91c264ab73a0062ccb5fb00becfab3acc6b</td>\n",
       "      <td>80972942317325730466459</td>\n",
       "      <td>672014</td>\n",
       "    </tr>\n",
       "    <tr>\n",
       "      <th>3</th>\n",
       "      <td>NYAN Stake Shares</td>\n",
       "      <td>NYAN-SHARES</td>\n",
       "      <td>0x7864ba11676b8cc286a7367b3cfd504968920b3a</td>\n",
       "      <td>0x56968c268465bd4453cd7ea8f8376996b2702bc4</td>\n",
       "      <td>55568116019050433810642</td>\n",
       "      <td>672014</td>\n",
       "    </tr>\n",
       "    <tr>\n",
       "      <th>4</th>\n",
       "      <td>NYAN Stake Shares</td>\n",
       "      <td>NYAN-SHARES</td>\n",
       "      <td>0x7864ba11676b8cc286a7367b3cfd504968920b3a</td>\n",
       "      <td>0x4ffef8e8a75c20ab0ddf96c50d2457277d27923c</td>\n",
       "      <td>48797372610356453635565</td>\n",
       "      <td>672014</td>\n",
       "    </tr>\n",
       "    <tr>\n",
       "      <th>...</th>\n",
       "      <td>...</td>\n",
       "      <td>...</td>\n",
       "      <td>...</td>\n",
       "      <td>...</td>\n",
       "      <td>...</td>\n",
       "      <td>...</td>\n",
       "    </tr>\n",
       "    <tr>\n",
       "      <th>2913</th>\n",
       "      <td>NYAN Stake Shares</td>\n",
       "      <td>NYAN-SHARES</td>\n",
       "      <td>0x7864ba11676b8cc286a7367b3cfd504968920b3a</td>\n",
       "      <td>0xb616340a10f14218e5db19cdadda686a9557658b</td>\n",
       "      <td>5867591998660</td>\n",
       "      <td>672014</td>\n",
       "    </tr>\n",
       "    <tr>\n",
       "      <th>2914</th>\n",
       "      <td>NYAN Stake Shares</td>\n",
       "      <td>NYAN-SHARES</td>\n",
       "      <td>0x7864ba11676b8cc286a7367b3cfd504968920b3a</td>\n",
       "      <td>0xe48f56a8f621025e2b96adeccdaba85e99613228</td>\n",
       "      <td>39</td>\n",
       "      <td>672014</td>\n",
       "    </tr>\n",
       "    <tr>\n",
       "      <th>2915</th>\n",
       "      <td>NYAN Stake Shares</td>\n",
       "      <td>NYAN-SHARES</td>\n",
       "      <td>0x7864ba11676b8cc286a7367b3cfd504968920b3a</td>\n",
       "      <td>0x65f570384d6cc157a15eac9bfd9da88364d59b7f</td>\n",
       "      <td>36</td>\n",
       "      <td>672014</td>\n",
       "    </tr>\n",
       "    <tr>\n",
       "      <th>2916</th>\n",
       "      <td>NYAN Stake Shares</td>\n",
       "      <td>NYAN-SHARES</td>\n",
       "      <td>0x7864ba11676b8cc286a7367b3cfd504968920b3a</td>\n",
       "      <td>0x69d5f8e1c2b8982a17f893f2658f3adb6a14929b</td>\n",
       "      <td>36</td>\n",
       "      <td>672014</td>\n",
       "    </tr>\n",
       "    <tr>\n",
       "      <th>2917</th>\n",
       "      <td>NYAN Stake Shares</td>\n",
       "      <td>NYAN-SHARES</td>\n",
       "      <td>0x7864ba11676b8cc286a7367b3cfd504968920b3a</td>\n",
       "      <td>0xcbcdca647cfda9283992193604f8718a910b42fc</td>\n",
       "      <td>35</td>\n",
       "      <td>672014</td>\n",
       "    </tr>\n",
       "  </tbody>\n",
       "</table>\n",
       "<p>2918 rows × 6 columns</p>\n",
       "</div>"
      ],
      "text/plain": [
       "          contract_name contract_ticker_symbol  \\\n",
       "0     NYAN Stake Shares            NYAN-SHARES   \n",
       "1     NYAN Stake Shares            NYAN-SHARES   \n",
       "2     NYAN Stake Shares            NYAN-SHARES   \n",
       "3     NYAN Stake Shares            NYAN-SHARES   \n",
       "4     NYAN Stake Shares            NYAN-SHARES   \n",
       "...                 ...                    ...   \n",
       "2913  NYAN Stake Shares            NYAN-SHARES   \n",
       "2914  NYAN Stake Shares            NYAN-SHARES   \n",
       "2915  NYAN Stake Shares            NYAN-SHARES   \n",
       "2916  NYAN Stake Shares            NYAN-SHARES   \n",
       "2917  NYAN Stake Shares            NYAN-SHARES   \n",
       "\n",
       "                                contract_address  \\\n",
       "0     0x7864ba11676b8cc286a7367b3cfd504968920b3a   \n",
       "1     0x7864ba11676b8cc286a7367b3cfd504968920b3a   \n",
       "2     0x7864ba11676b8cc286a7367b3cfd504968920b3a   \n",
       "3     0x7864ba11676b8cc286a7367b3cfd504968920b3a   \n",
       "4     0x7864ba11676b8cc286a7367b3cfd504968920b3a   \n",
       "...                                          ...   \n",
       "2913  0x7864ba11676b8cc286a7367b3cfd504968920b3a   \n",
       "2914  0x7864ba11676b8cc286a7367b3cfd504968920b3a   \n",
       "2915  0x7864ba11676b8cc286a7367b3cfd504968920b3a   \n",
       "2916  0x7864ba11676b8cc286a7367b3cfd504968920b3a   \n",
       "2917  0x7864ba11676b8cc286a7367b3cfd504968920b3a   \n",
       "\n",
       "                                         address                   balance  \\\n",
       "0     0x6af235d2bbe050e6291615b71ca5829658810142  133164538479811653099091   \n",
       "1     0x5fb8b9512684d451d4e585a1a0aabfb48a253c67  110752296490852968420319   \n",
       "2     0x6e26d91c264ab73a0062ccb5fb00becfab3acc6b   80972942317325730466459   \n",
       "3     0x56968c268465bd4453cd7ea8f8376996b2702bc4   55568116019050433810642   \n",
       "4     0x4ffef8e8a75c20ab0ddf96c50d2457277d27923c   48797372610356453635565   \n",
       "...                                          ...                       ...   \n",
       "2913  0xb616340a10f14218e5db19cdadda686a9557658b             5867591998660   \n",
       "2914  0xe48f56a8f621025e2b96adeccdaba85e99613228                        39   \n",
       "2915  0x65f570384d6cc157a15eac9bfd9da88364d59b7f                        36   \n",
       "2916  0x69d5f8e1c2b8982a17f893f2658f3adb6a14929b                        36   \n",
       "2917  0xcbcdca647cfda9283992193604f8718a910b42fc                        35   \n",
       "\n",
       "      block_height  \n",
       "0           672014  \n",
       "1           672014  \n",
       "2           672014  \n",
       "3           672014  \n",
       "4           672014  \n",
       "...            ...  \n",
       "2913        672014  \n",
       "2914        672014  \n",
       "2915        672014  \n",
       "2916        672014  \n",
       "2917        672014  \n",
       "\n",
       "[2918 rows x 6 columns]"
      ]
     },
     "execution_count": 6,
     "metadata": {},
     "output_type": "execute_result"
    }
   ],
   "source": [
    "nyan_strategy_stakers[['contract_name', 'contract_ticker_symbol', 'contract_address', 'address', 'balance', 'block_height']]"
   ]
  },
  {
   "cell_type": "code",
   "execution_count": 7,
   "metadata": {},
   "outputs": [
    {
     "data": {
      "text/plain": [
       "(2918, 10)"
      ]
     },
     "execution_count": 7,
     "metadata": {},
     "output_type": "execute_result"
    }
   ],
   "source": [
    "nyan_strategy_stakers.shape"
   ]
  },
  {
   "cell_type": "markdown",
   "metadata": {},
   "source": [
    "#### load nyan_eth data"
   ]
  },
  {
   "cell_type": "code",
   "execution_count": 8,
   "metadata": {},
   "outputs": [],
   "source": [
    "# nyan_eth_raw = requests.get(\"https://api.covalenthq.com/v1/42161/tokens/0xf285108D3aa4DC9041364b64297979979a7Ec7B9/token_holders/?block-height=672014&page-size=3000&key=REDACTED\")"
   ]
  },
  {
   "cell_type": "code",
   "execution_count": 9,
   "metadata": {},
   "outputs": [],
   "source": [
    "# nyan_eth_stakers = pd.DataFrame(nyan_eth_raw.json()['data']['items'])"
   ]
  },
  {
   "cell_type": "code",
   "execution_count": 10,
   "metadata": {},
   "outputs": [],
   "source": [
    "# nyan_eth_stakers.to_csv('NYANETH-stakers-at-block-672014-raw.csv', index=False)\n",
    "nyan_eth_stakers = pd.read_csv('NYANETH-stakers-at-block-672014-raw.csv')"
   ]
  },
  {
   "cell_type": "code",
   "execution_count": 11,
   "metadata": {},
   "outputs": [],
   "source": [
    "nyan_eth_stakers[[x for x in nyan_eth_stakers.columns if 'Unnamed' not in x]].to_csv('NYANETH-stakers-at-block-672014-raw.csv',index=False)"
   ]
  },
  {
   "cell_type": "code",
   "execution_count": 12,
   "metadata": {},
   "outputs": [
    {
     "data": {
      "text/plain": [
       "(487, 10)"
      ]
     },
     "execution_count": 12,
     "metadata": {},
     "output_type": "execute_result"
    }
   ],
   "source": [
    "nyan_eth_stakers.shape"
   ]
  },
  {
   "cell_type": "code",
   "execution_count": 13,
   "metadata": {},
   "outputs": [
    {
     "data": {
      "text/html": [
       "<div>\n",
       "<style scoped>\n",
       "    .dataframe tbody tr th:only-of-type {\n",
       "        vertical-align: middle;\n",
       "    }\n",
       "\n",
       "    .dataframe tbody tr th {\n",
       "        vertical-align: top;\n",
       "    }\n",
       "\n",
       "    .dataframe thead th {\n",
       "        text-align: right;\n",
       "    }\n",
       "</style>\n",
       "<table border=\"1\" class=\"dataframe\">\n",
       "  <thead>\n",
       "    <tr style=\"text-align: right;\">\n",
       "      <th></th>\n",
       "      <th>contract_name</th>\n",
       "      <th>contract_ticker_symbol</th>\n",
       "      <th>contract_address</th>\n",
       "      <th>address</th>\n",
       "      <th>balance</th>\n",
       "      <th>block_height</th>\n",
       "    </tr>\n",
       "  </thead>\n",
       "  <tbody>\n",
       "    <tr>\n",
       "      <th>0</th>\n",
       "      <td>NYAN Stake Shares</td>\n",
       "      <td>NYAN-SHARES</td>\n",
       "      <td>0x7864ba11676b8cc286a7367b3cfd504968920b3a</td>\n",
       "      <td>0x6af235d2bbe050e6291615b71ca5829658810142</td>\n",
       "      <td>133164538479811653099091</td>\n",
       "      <td>672014</td>\n",
       "    </tr>\n",
       "    <tr>\n",
       "      <th>1</th>\n",
       "      <td>NYAN Stake Shares</td>\n",
       "      <td>NYAN-SHARES</td>\n",
       "      <td>0x7864ba11676b8cc286a7367b3cfd504968920b3a</td>\n",
       "      <td>0x5fb8b9512684d451d4e585a1a0aabfb48a253c67</td>\n",
       "      <td>110752296490852968420319</td>\n",
       "      <td>672014</td>\n",
       "    </tr>\n",
       "    <tr>\n",
       "      <th>2</th>\n",
       "      <td>NYAN Stake Shares</td>\n",
       "      <td>NYAN-SHARES</td>\n",
       "      <td>0x7864ba11676b8cc286a7367b3cfd504968920b3a</td>\n",
       "      <td>0x6e26d91c264ab73a0062ccb5fb00becfab3acc6b</td>\n",
       "      <td>80972942317325730466459</td>\n",
       "      <td>672014</td>\n",
       "    </tr>\n",
       "    <tr>\n",
       "      <th>3</th>\n",
       "      <td>NYAN Stake Shares</td>\n",
       "      <td>NYAN-SHARES</td>\n",
       "      <td>0x7864ba11676b8cc286a7367b3cfd504968920b3a</td>\n",
       "      <td>0x56968c268465bd4453cd7ea8f8376996b2702bc4</td>\n",
       "      <td>55568116019050433810642</td>\n",
       "      <td>672014</td>\n",
       "    </tr>\n",
       "    <tr>\n",
       "      <th>4</th>\n",
       "      <td>NYAN Stake Shares</td>\n",
       "      <td>NYAN-SHARES</td>\n",
       "      <td>0x7864ba11676b8cc286a7367b3cfd504968920b3a</td>\n",
       "      <td>0x4ffef8e8a75c20ab0ddf96c50d2457277d27923c</td>\n",
       "      <td>48797372610356453635565</td>\n",
       "      <td>672014</td>\n",
       "    </tr>\n",
       "    <tr>\n",
       "      <th>...</th>\n",
       "      <td>...</td>\n",
       "      <td>...</td>\n",
       "      <td>...</td>\n",
       "      <td>...</td>\n",
       "      <td>...</td>\n",
       "      <td>...</td>\n",
       "    </tr>\n",
       "    <tr>\n",
       "      <th>2913</th>\n",
       "      <td>NYAN Stake Shares</td>\n",
       "      <td>NYAN-SHARES</td>\n",
       "      <td>0x7864ba11676b8cc286a7367b3cfd504968920b3a</td>\n",
       "      <td>0xb616340a10f14218e5db19cdadda686a9557658b</td>\n",
       "      <td>5867591998660</td>\n",
       "      <td>672014</td>\n",
       "    </tr>\n",
       "    <tr>\n",
       "      <th>2914</th>\n",
       "      <td>NYAN Stake Shares</td>\n",
       "      <td>NYAN-SHARES</td>\n",
       "      <td>0x7864ba11676b8cc286a7367b3cfd504968920b3a</td>\n",
       "      <td>0xe48f56a8f621025e2b96adeccdaba85e99613228</td>\n",
       "      <td>39</td>\n",
       "      <td>672014</td>\n",
       "    </tr>\n",
       "    <tr>\n",
       "      <th>2915</th>\n",
       "      <td>NYAN Stake Shares</td>\n",
       "      <td>NYAN-SHARES</td>\n",
       "      <td>0x7864ba11676b8cc286a7367b3cfd504968920b3a</td>\n",
       "      <td>0x65f570384d6cc157a15eac9bfd9da88364d59b7f</td>\n",
       "      <td>36</td>\n",
       "      <td>672014</td>\n",
       "    </tr>\n",
       "    <tr>\n",
       "      <th>2916</th>\n",
       "      <td>NYAN Stake Shares</td>\n",
       "      <td>NYAN-SHARES</td>\n",
       "      <td>0x7864ba11676b8cc286a7367b3cfd504968920b3a</td>\n",
       "      <td>0x69d5f8e1c2b8982a17f893f2658f3adb6a14929b</td>\n",
       "      <td>36</td>\n",
       "      <td>672014</td>\n",
       "    </tr>\n",
       "    <tr>\n",
       "      <th>2917</th>\n",
       "      <td>NYAN Stake Shares</td>\n",
       "      <td>NYAN-SHARES</td>\n",
       "      <td>0x7864ba11676b8cc286a7367b3cfd504968920b3a</td>\n",
       "      <td>0xcbcdca647cfda9283992193604f8718a910b42fc</td>\n",
       "      <td>35</td>\n",
       "      <td>672014</td>\n",
       "    </tr>\n",
       "  </tbody>\n",
       "</table>\n",
       "<p>2918 rows × 6 columns</p>\n",
       "</div>"
      ],
      "text/plain": [
       "          contract_name contract_ticker_symbol  \\\n",
       "0     NYAN Stake Shares            NYAN-SHARES   \n",
       "1     NYAN Stake Shares            NYAN-SHARES   \n",
       "2     NYAN Stake Shares            NYAN-SHARES   \n",
       "3     NYAN Stake Shares            NYAN-SHARES   \n",
       "4     NYAN Stake Shares            NYAN-SHARES   \n",
       "...                 ...                    ...   \n",
       "2913  NYAN Stake Shares            NYAN-SHARES   \n",
       "2914  NYAN Stake Shares            NYAN-SHARES   \n",
       "2915  NYAN Stake Shares            NYAN-SHARES   \n",
       "2916  NYAN Stake Shares            NYAN-SHARES   \n",
       "2917  NYAN Stake Shares            NYAN-SHARES   \n",
       "\n",
       "                                contract_address  \\\n",
       "0     0x7864ba11676b8cc286a7367b3cfd504968920b3a   \n",
       "1     0x7864ba11676b8cc286a7367b3cfd504968920b3a   \n",
       "2     0x7864ba11676b8cc286a7367b3cfd504968920b3a   \n",
       "3     0x7864ba11676b8cc286a7367b3cfd504968920b3a   \n",
       "4     0x7864ba11676b8cc286a7367b3cfd504968920b3a   \n",
       "...                                          ...   \n",
       "2913  0x7864ba11676b8cc286a7367b3cfd504968920b3a   \n",
       "2914  0x7864ba11676b8cc286a7367b3cfd504968920b3a   \n",
       "2915  0x7864ba11676b8cc286a7367b3cfd504968920b3a   \n",
       "2916  0x7864ba11676b8cc286a7367b3cfd504968920b3a   \n",
       "2917  0x7864ba11676b8cc286a7367b3cfd504968920b3a   \n",
       "\n",
       "                                         address                   balance  \\\n",
       "0     0x6af235d2bbe050e6291615b71ca5829658810142  133164538479811653099091   \n",
       "1     0x5fb8b9512684d451d4e585a1a0aabfb48a253c67  110752296490852968420319   \n",
       "2     0x6e26d91c264ab73a0062ccb5fb00becfab3acc6b   80972942317325730466459   \n",
       "3     0x56968c268465bd4453cd7ea8f8376996b2702bc4   55568116019050433810642   \n",
       "4     0x4ffef8e8a75c20ab0ddf96c50d2457277d27923c   48797372610356453635565   \n",
       "...                                          ...                       ...   \n",
       "2913  0xb616340a10f14218e5db19cdadda686a9557658b             5867591998660   \n",
       "2914  0xe48f56a8f621025e2b96adeccdaba85e99613228                        39   \n",
       "2915  0x65f570384d6cc157a15eac9bfd9da88364d59b7f                        36   \n",
       "2916  0x69d5f8e1c2b8982a17f893f2658f3adb6a14929b                        36   \n",
       "2917  0xcbcdca647cfda9283992193604f8718a910b42fc                        35   \n",
       "\n",
       "      block_height  \n",
       "0           672014  \n",
       "1           672014  \n",
       "2           672014  \n",
       "3           672014  \n",
       "4           672014  \n",
       "...            ...  \n",
       "2913        672014  \n",
       "2914        672014  \n",
       "2915        672014  \n",
       "2916        672014  \n",
       "2917        672014  \n",
       "\n",
       "[2918 rows x 6 columns]"
      ]
     },
     "execution_count": 13,
     "metadata": {},
     "output_type": "execute_result"
    }
   ],
   "source": [
    "nyan_strategy_stakers[['contract_name', 'contract_ticker_symbol', 'contract_address', 'address', 'balance', 'block_height']]"
   ]
  },
  {
   "cell_type": "markdown",
   "metadata": {},
   "source": [
    "## determine airdrop distributions"
   ]
  },
  {
   "cell_type": "markdown",
   "metadata": {},
   "source": [
    "### example of quantiles\n",
    "for educational purposes"
   ]
  },
  {
   "cell_type": "code",
   "execution_count": 14,
   "metadata": {},
   "outputs": [
    {
     "data": {
      "text/plain": [
       "['smaller', 'smaller', 'smaller', 'bigger', 'bigger', 'bigger', 'biggest', 'biggest', 'biggest']\n",
       "Categories (3, object): ['smaller' < 'bigger' < 'biggest']"
      ]
     },
     "execution_count": 14,
     "metadata": {},
     "output_type": "execute_result"
    }
   ],
   "source": [
    "# example of quantiles\n",
    "pd.qcut(\n",
    "    [0, 1, 2, 3, 4, 5, 5.5, 6, 8], # range of numbers to process\n",
    "    3, # number of quantiles to bucket into \n",
    "    labels=[\"smaller\", \"bigger\", \"biggest\"] # bucket names\n",
    ")"
   ]
  },
  {
   "cell_type": "markdown",
   "metadata": {},
   "source": [
    "### determine quantile splits"
   ]
  },
  {
   "cell_type": "code",
   "execution_count": 15,
   "metadata": {},
   "outputs": [],
   "source": [
    "tranches = {\n",
    "    \"General Manager\":0.45,\n",
    "    \"Shift Lead\":0.25,\n",
    "    \"Line Cook\":0.20,\n",
    "    \"Cashier\":0.10    \n",
    "}"
   ]
  },
  {
   "cell_type": "markdown",
   "metadata": {},
   "source": [
    "### assign nyan_strategy tokens"
   ]
  },
  {
   "cell_type": "code",
   "execution_count": 16,
   "metadata": {},
   "outputs": [],
   "source": [
    "nyan_strategy_allocation = 2500000000"
   ]
  },
  {
   "cell_type": "code",
   "execution_count": 17,
   "metadata": {},
   "outputs": [],
   "source": [
    "nyan_strategy_cuts = pd.qcut(\n",
    "    nyan_strategy_stakers['balance'].astype(float), \n",
    "    4, \n",
    "    labels=[\"Cashier\", \"Line Cook\", \"Shift Lead\", \"General Manager\"]\n",
    ")"
   ]
  },
  {
   "cell_type": "code",
   "execution_count": 18,
   "metadata": {},
   "outputs": [
    {
     "data": {
      "text/plain": [
       "Cashier            730\n",
       "General Manager    730\n",
       "Line Cook          729\n",
       "Shift Lead         729\n",
       "Name: balance, dtype: int64"
      ]
     },
     "execution_count": 18,
     "metadata": {},
     "output_type": "execute_result"
    }
   ],
   "source": [
    "nyan_strategy_cuts.value_counts()"
   ]
  },
  {
   "cell_type": "code",
   "execution_count": 19,
   "metadata": {},
   "outputs": [],
   "source": [
    "# set quantile column equal to the qcut each wallet belongs to\n",
    "nyan_strategy_stakers['quantile'] = nyan_strategy_cuts"
   ]
  },
  {
   "cell_type": "code",
   "execution_count": 20,
   "metadata": {},
   "outputs": [
    {
     "data": {
      "text/html": [
       "<div>\n",
       "<style scoped>\n",
       "    .dataframe tbody tr th:only-of-type {\n",
       "        vertical-align: middle;\n",
       "    }\n",
       "\n",
       "    .dataframe tbody tr th {\n",
       "        vertical-align: top;\n",
       "    }\n",
       "\n",
       "    .dataframe thead th {\n",
       "        text-align: right;\n",
       "    }\n",
       "</style>\n",
       "<table border=\"1\" class=\"dataframe\">\n",
       "  <thead>\n",
       "    <tr style=\"text-align: right;\">\n",
       "      <th></th>\n",
       "      <th>quantile</th>\n",
       "      <th>balance</th>\n",
       "    </tr>\n",
       "  </thead>\n",
       "  <tbody>\n",
       "    <tr>\n",
       "      <th>561</th>\n",
       "      <td>General Manager</td>\n",
       "      <td>146925428808953814403</td>\n",
       "    </tr>\n",
       "    <tr>\n",
       "      <th>2346</th>\n",
       "      <td>Cashier</td>\n",
       "      <td>990000000000000001</td>\n",
       "    </tr>\n",
       "    <tr>\n",
       "      <th>2248</th>\n",
       "      <td>Cashier</td>\n",
       "      <td>1000000000000000000</td>\n",
       "    </tr>\n",
       "    <tr>\n",
       "      <th>1042</th>\n",
       "      <td>Shift Lead</td>\n",
       "      <td>51405054499475166540</td>\n",
       "    </tr>\n",
       "    <tr>\n",
       "      <th>1267</th>\n",
       "      <td>Shift Lead</td>\n",
       "      <td>26724807763446274970</td>\n",
       "    </tr>\n",
       "  </tbody>\n",
       "</table>\n",
       "</div>"
      ],
      "text/plain": [
       "             quantile                balance\n",
       "561   General Manager  146925428808953814403\n",
       "2346          Cashier     990000000000000001\n",
       "2248          Cashier    1000000000000000000\n",
       "1042       Shift Lead   51405054499475166540\n",
       "1267       Shift Lead   26724807763446274970"
      ]
     },
     "execution_count": 20,
     "metadata": {},
     "output_type": "execute_result"
    }
   ],
   "source": [
    "nyan_strategy_stakers[['quantile', 'balance']].sample(5)"
   ]
  },
  {
   "cell_type": "code",
   "execution_count": 21,
   "metadata": {},
   "outputs": [],
   "source": [
    "# define the tranche multiplier for each address\n",
    "nyan_strategy_stakers['tranche_multiplier'] = nyan_strategy_stakers['quantile'].map(tranches).astype(float)"
   ]
  },
  {
   "cell_type": "code",
   "execution_count": 22,
   "metadata": {},
   "outputs": [
    {
     "data": {
      "text/html": [
       "<div>\n",
       "<style scoped>\n",
       "    .dataframe tbody tr th:only-of-type {\n",
       "        vertical-align: middle;\n",
       "    }\n",
       "\n",
       "    .dataframe tbody tr th {\n",
       "        vertical-align: top;\n",
       "    }\n",
       "\n",
       "    .dataframe thead th {\n",
       "        text-align: right;\n",
       "    }\n",
       "</style>\n",
       "<table border=\"1\" class=\"dataframe\">\n",
       "  <thead>\n",
       "    <tr style=\"text-align: right;\">\n",
       "      <th></th>\n",
       "      <th>tranche_multiplier</th>\n",
       "      <th>quantile</th>\n",
       "    </tr>\n",
       "  </thead>\n",
       "  <tbody>\n",
       "    <tr>\n",
       "      <th>389</th>\n",
       "      <td>0.450</td>\n",
       "      <td>General Manager</td>\n",
       "    </tr>\n",
       "    <tr>\n",
       "      <th>887</th>\n",
       "      <td>0.250</td>\n",
       "      <td>Shift Lead</td>\n",
       "    </tr>\n",
       "    <tr>\n",
       "      <th>1206</th>\n",
       "      <td>0.250</td>\n",
       "      <td>Shift Lead</td>\n",
       "    </tr>\n",
       "    <tr>\n",
       "      <th>2148</th>\n",
       "      <td>0.200</td>\n",
       "      <td>Line Cook</td>\n",
       "    </tr>\n",
       "    <tr>\n",
       "      <th>2558</th>\n",
       "      <td>0.100</td>\n",
       "      <td>Cashier</td>\n",
       "    </tr>\n",
       "  </tbody>\n",
       "</table>\n",
       "</div>"
      ],
      "text/plain": [
       "      tranche_multiplier         quantile\n",
       "389                0.450  General Manager\n",
       "887                0.250       Shift Lead\n",
       "1206               0.250       Shift Lead\n",
       "2148               0.200        Line Cook\n",
       "2558               0.100          Cashier"
      ]
     },
     "execution_count": 22,
     "metadata": {},
     "output_type": "execute_result"
    }
   ],
   "source": [
    "nyan_strategy_stakers[['tranche_multiplier', 'quantile']].sample(5)"
   ]
  },
  {
   "cell_type": "markdown",
   "metadata": {},
   "source": [
    "#### calculate the airdrop numbers"
   ]
  },
  {
   "cell_type": "code",
   "execution_count": 23,
   "metadata": {},
   "outputs": [],
   "source": [
    "# multiply each wallet's tranche multiplier by the total available allocation \n",
    "# divided by the max number of wallets in a tranche\n",
    "nyan_strategy_stakers['airdrop_n'] = np.floor(\n",
    "    nyan_strategy_stakers['tranche_multiplier']*nyan_strategy_allocation/(nyan_strategy_cuts.value_counts().mean())\n",
    "    ).astype(int)"
   ]
  },
  {
   "cell_type": "code",
   "execution_count": 24,
   "metadata": {},
   "outputs": [
    {
     "data": {
      "text/html": [
       "<div>\n",
       "<style scoped>\n",
       "    .dataframe tbody tr th:only-of-type {\n",
       "        vertical-align: middle;\n",
       "    }\n",
       "\n",
       "    .dataframe tbody tr th {\n",
       "        vertical-align: top;\n",
       "    }\n",
       "\n",
       "    .dataframe thead th {\n",
       "        text-align: right;\n",
       "    }\n",
       "</style>\n",
       "<table border=\"1\" class=\"dataframe\">\n",
       "  <thead>\n",
       "    <tr style=\"text-align: right;\">\n",
       "      <th></th>\n",
       "      <th>address</th>\n",
       "      <th>balance</th>\n",
       "      <th>quantile</th>\n",
       "      <th>tranche_multiplier</th>\n",
       "      <th>airdrop_n</th>\n",
       "    </tr>\n",
       "  </thead>\n",
       "  <tbody>\n",
       "    <tr>\n",
       "      <th>0</th>\n",
       "      <td>0x6af235d2bbe050e6291615b71ca5829658810142</td>\n",
       "      <td>133164538479811653099091</td>\n",
       "      <td>General Manager</td>\n",
       "      <td>0.450</td>\n",
       "      <td>1542152</td>\n",
       "    </tr>\n",
       "    <tr>\n",
       "      <th>1</th>\n",
       "      <td>0x5fb8b9512684d451d4e585a1a0aabfb48a253c67</td>\n",
       "      <td>110752296490852968420319</td>\n",
       "      <td>General Manager</td>\n",
       "      <td>0.450</td>\n",
       "      <td>1542152</td>\n",
       "    </tr>\n",
       "    <tr>\n",
       "      <th>2</th>\n",
       "      <td>0x6e26d91c264ab73a0062ccb5fb00becfab3acc6b</td>\n",
       "      <td>80972942317325730466459</td>\n",
       "      <td>General Manager</td>\n",
       "      <td>0.450</td>\n",
       "      <td>1542152</td>\n",
       "    </tr>\n",
       "    <tr>\n",
       "      <th>3</th>\n",
       "      <td>0x56968c268465bd4453cd7ea8f8376996b2702bc4</td>\n",
       "      <td>55568116019050433810642</td>\n",
       "      <td>General Manager</td>\n",
       "      <td>0.450</td>\n",
       "      <td>1542152</td>\n",
       "    </tr>\n",
       "    <tr>\n",
       "      <th>4</th>\n",
       "      <td>0x4ffef8e8a75c20ab0ddf96c50d2457277d27923c</td>\n",
       "      <td>48797372610356453635565</td>\n",
       "      <td>General Manager</td>\n",
       "      <td>0.450</td>\n",
       "      <td>1542152</td>\n",
       "    </tr>\n",
       "    <tr>\n",
       "      <th>...</th>\n",
       "      <td>...</td>\n",
       "      <td>...</td>\n",
       "      <td>...</td>\n",
       "      <td>...</td>\n",
       "      <td>...</td>\n",
       "    </tr>\n",
       "    <tr>\n",
       "      <th>2913</th>\n",
       "      <td>0xb616340a10f14218e5db19cdadda686a9557658b</td>\n",
       "      <td>5867591998660</td>\n",
       "      <td>Cashier</td>\n",
       "      <td>0.100</td>\n",
       "      <td>342700</td>\n",
       "    </tr>\n",
       "    <tr>\n",
       "      <th>2914</th>\n",
       "      <td>0xe48f56a8f621025e2b96adeccdaba85e99613228</td>\n",
       "      <td>39</td>\n",
       "      <td>Cashier</td>\n",
       "      <td>0.100</td>\n",
       "      <td>342700</td>\n",
       "    </tr>\n",
       "    <tr>\n",
       "      <th>2915</th>\n",
       "      <td>0x65f570384d6cc157a15eac9bfd9da88364d59b7f</td>\n",
       "      <td>36</td>\n",
       "      <td>Cashier</td>\n",
       "      <td>0.100</td>\n",
       "      <td>342700</td>\n",
       "    </tr>\n",
       "    <tr>\n",
       "      <th>2916</th>\n",
       "      <td>0x69d5f8e1c2b8982a17f893f2658f3adb6a14929b</td>\n",
       "      <td>36</td>\n",
       "      <td>Cashier</td>\n",
       "      <td>0.100</td>\n",
       "      <td>342700</td>\n",
       "    </tr>\n",
       "    <tr>\n",
       "      <th>2917</th>\n",
       "      <td>0xcbcdca647cfda9283992193604f8718a910b42fc</td>\n",
       "      <td>35</td>\n",
       "      <td>Cashier</td>\n",
       "      <td>0.100</td>\n",
       "      <td>342700</td>\n",
       "    </tr>\n",
       "  </tbody>\n",
       "</table>\n",
       "<p>2918 rows × 5 columns</p>\n",
       "</div>"
      ],
      "text/plain": [
       "                                         address                   balance  \\\n",
       "0     0x6af235d2bbe050e6291615b71ca5829658810142  133164538479811653099091   \n",
       "1     0x5fb8b9512684d451d4e585a1a0aabfb48a253c67  110752296490852968420319   \n",
       "2     0x6e26d91c264ab73a0062ccb5fb00becfab3acc6b   80972942317325730466459   \n",
       "3     0x56968c268465bd4453cd7ea8f8376996b2702bc4   55568116019050433810642   \n",
       "4     0x4ffef8e8a75c20ab0ddf96c50d2457277d27923c   48797372610356453635565   \n",
       "...                                          ...                       ...   \n",
       "2913  0xb616340a10f14218e5db19cdadda686a9557658b             5867591998660   \n",
       "2914  0xe48f56a8f621025e2b96adeccdaba85e99613228                        39   \n",
       "2915  0x65f570384d6cc157a15eac9bfd9da88364d59b7f                        36   \n",
       "2916  0x69d5f8e1c2b8982a17f893f2658f3adb6a14929b                        36   \n",
       "2917  0xcbcdca647cfda9283992193604f8718a910b42fc                        35   \n",
       "\n",
       "             quantile  tranche_multiplier  airdrop_n  \n",
       "0     General Manager               0.450    1542152  \n",
       "1     General Manager               0.450    1542152  \n",
       "2     General Manager               0.450    1542152  \n",
       "3     General Manager               0.450    1542152  \n",
       "4     General Manager               0.450    1542152  \n",
       "...               ...                 ...        ...  \n",
       "2913          Cashier               0.100     342700  \n",
       "2914          Cashier               0.100     342700  \n",
       "2915          Cashier               0.100     342700  \n",
       "2916          Cashier               0.100     342700  \n",
       "2917          Cashier               0.100     342700  \n",
       "\n",
       "[2918 rows x 5 columns]"
      ]
     },
     "execution_count": 24,
     "metadata": {},
     "output_type": "execute_result"
    }
   ],
   "source": [
    "nyan_strategy_stakers[['address', 'balance', 'quantile', 'tranche_multiplier', 'airdrop_n']]"
   ]
  },
  {
   "cell_type": "code",
   "execution_count": 25,
   "metadata": {},
   "outputs": [],
   "source": [
    "nyan_strategy_stakers['address'] = nyan_strategy_stakers['address'].str.lower()"
   ]
  },
  {
   "cell_type": "markdown",
   "metadata": {},
   "source": [
    "### assign nyan_eth tokens"
   ]
  },
  {
   "cell_type": "code",
   "execution_count": 26,
   "metadata": {},
   "outputs": [],
   "source": [
    "nyan_eth_allocation = 2000000000"
   ]
  },
  {
   "cell_type": "code",
   "execution_count": 27,
   "metadata": {},
   "outputs": [],
   "source": [
    "nyan_eth_cuts = pd.qcut(\n",
    "    nyan_eth_stakers['balance'].astype(float), \n",
    "    4, \n",
    "    labels=[\"Cashier\", \"Line Cook\", \"Shift Lead\", \"General Manager\"]\n",
    ")"
   ]
  },
  {
   "cell_type": "code",
   "execution_count": 28,
   "metadata": {},
   "outputs": [
    {
     "data": {
      "text/plain": [
       "Cashier            122\n",
       "Line Cook          122\n",
       "General Manager    122\n",
       "Shift Lead         121\n",
       "Name: balance, dtype: int64"
      ]
     },
     "execution_count": 28,
     "metadata": {},
     "output_type": "execute_result"
    }
   ],
   "source": [
    "nyan_eth_cuts.value_counts()"
   ]
  },
  {
   "cell_type": "code",
   "execution_count": 29,
   "metadata": {},
   "outputs": [],
   "source": [
    "nyan_eth_stakers['quantile'] = nyan_eth_cuts"
   ]
  },
  {
   "cell_type": "code",
   "execution_count": 30,
   "metadata": {},
   "outputs": [],
   "source": [
    "nyan_eth_stakers['tranche_multiplier'] = nyan_eth_stakers['quantile'].map(tranches).astype(float)"
   ]
  },
  {
   "cell_type": "code",
   "execution_count": 31,
   "metadata": {},
   "outputs": [],
   "source": [
    "nyan_eth_stakers['airdrop_n'] = np.floor(\n",
    "    nyan_eth_stakers['tranche_multiplier']*nyan_eth_allocation/(nyan_eth_cuts.value_counts().mean())\n",
    "    ).astype(int)"
   ]
  },
  {
   "cell_type": "code",
   "execution_count": 32,
   "metadata": {},
   "outputs": [
    {
     "data": {
      "text/html": [
       "<div>\n",
       "<style scoped>\n",
       "    .dataframe tbody tr th:only-of-type {\n",
       "        vertical-align: middle;\n",
       "    }\n",
       "\n",
       "    .dataframe tbody tr th {\n",
       "        vertical-align: top;\n",
       "    }\n",
       "\n",
       "    .dataframe thead th {\n",
       "        text-align: right;\n",
       "    }\n",
       "</style>\n",
       "<table border=\"1\" class=\"dataframe\">\n",
       "  <thead>\n",
       "    <tr style=\"text-align: right;\">\n",
       "      <th></th>\n",
       "      <th>address</th>\n",
       "      <th>balance</th>\n",
       "      <th>quantile</th>\n",
       "      <th>tranche_multiplier</th>\n",
       "      <th>airdrop_n</th>\n",
       "    </tr>\n",
       "  </thead>\n",
       "  <tbody>\n",
       "    <tr>\n",
       "      <th>0</th>\n",
       "      <td>0x5c391b2edc2174bea333a508c48d8efc116d474d</td>\n",
       "      <td>3766972765692876919452</td>\n",
       "      <td>General Manager</td>\n",
       "      <td>0.450</td>\n",
       "      <td>7377049</td>\n",
       "    </tr>\n",
       "    <tr>\n",
       "      <th>1</th>\n",
       "      <td>0xf8fa2e5f52ad3c3c49ffa1f3f4e6f3ccefa4011e</td>\n",
       "      <td>948879249228950293678</td>\n",
       "      <td>General Manager</td>\n",
       "      <td>0.450</td>\n",
       "      <td>7377049</td>\n",
       "    </tr>\n",
       "    <tr>\n",
       "      <th>2</th>\n",
       "      <td>0xa9e244bacf3eb0de750b9d0d2e1930e56ccb71f3</td>\n",
       "      <td>869518384594170467225</td>\n",
       "      <td>General Manager</td>\n",
       "      <td>0.450</td>\n",
       "      <td>7377049</td>\n",
       "    </tr>\n",
       "    <tr>\n",
       "      <th>3</th>\n",
       "      <td>0xa99634c98c262fd6b51cb8662a9b4fd8774ca424</td>\n",
       "      <td>648413553146764282846</td>\n",
       "      <td>General Manager</td>\n",
       "      <td>0.450</td>\n",
       "      <td>7377049</td>\n",
       "    </tr>\n",
       "    <tr>\n",
       "      <th>4</th>\n",
       "      <td>0x329c54289ff5d6b7b7dae13592c6b1eda1543ed4</td>\n",
       "      <td>444806050824210278498</td>\n",
       "      <td>General Manager</td>\n",
       "      <td>0.450</td>\n",
       "      <td>7377049</td>\n",
       "    </tr>\n",
       "    <tr>\n",
       "      <th>...</th>\n",
       "      <td>...</td>\n",
       "      <td>...</td>\n",
       "      <td>...</td>\n",
       "      <td>...</td>\n",
       "      <td>...</td>\n",
       "    </tr>\n",
       "    <tr>\n",
       "      <th>482</th>\n",
       "      <td>0xba17a734fbbd0e96a0f10723b501c3b0249ccba0</td>\n",
       "      <td>3960583687791646</td>\n",
       "      <td>Cashier</td>\n",
       "      <td>0.100</td>\n",
       "      <td>1639344</td>\n",
       "    </tr>\n",
       "    <tr>\n",
       "      <th>483</th>\n",
       "      <td>0x23c7af6f2a27ae82dd8ea809082955a3ace2b5ac</td>\n",
       "      <td>3814998431368195</td>\n",
       "      <td>Cashier</td>\n",
       "      <td>0.100</td>\n",
       "      <td>1639344</td>\n",
       "    </tr>\n",
       "    <tr>\n",
       "      <th>484</th>\n",
       "      <td>0x26b2278cb756c28d9d6e362b6dd5e8d17844fd07</td>\n",
       "      <td>359745292939940</td>\n",
       "      <td>Cashier</td>\n",
       "      <td>0.100</td>\n",
       "      <td>1639344</td>\n",
       "    </tr>\n",
       "    <tr>\n",
       "      <th>485</th>\n",
       "      <td>0x2731d63bd9dcc8954a00ce371ee684f3a8073167</td>\n",
       "      <td>207116158880294</td>\n",
       "      <td>Cashier</td>\n",
       "      <td>0.100</td>\n",
       "      <td>1639344</td>\n",
       "    </tr>\n",
       "    <tr>\n",
       "      <th>486</th>\n",
       "      <td>0x012430f934bc381d9f59a28ea34363bce170353d</td>\n",
       "      <td>176396852288178</td>\n",
       "      <td>Cashier</td>\n",
       "      <td>0.100</td>\n",
       "      <td>1639344</td>\n",
       "    </tr>\n",
       "  </tbody>\n",
       "</table>\n",
       "<p>487 rows × 5 columns</p>\n",
       "</div>"
      ],
      "text/plain": [
       "                                        address                 balance  \\\n",
       "0    0x5c391b2edc2174bea333a508c48d8efc116d474d  3766972765692876919452   \n",
       "1    0xf8fa2e5f52ad3c3c49ffa1f3f4e6f3ccefa4011e   948879249228950293678   \n",
       "2    0xa9e244bacf3eb0de750b9d0d2e1930e56ccb71f3   869518384594170467225   \n",
       "3    0xa99634c98c262fd6b51cb8662a9b4fd8774ca424   648413553146764282846   \n",
       "4    0x329c54289ff5d6b7b7dae13592c6b1eda1543ed4   444806050824210278498   \n",
       "..                                          ...                     ...   \n",
       "482  0xba17a734fbbd0e96a0f10723b501c3b0249ccba0        3960583687791646   \n",
       "483  0x23c7af6f2a27ae82dd8ea809082955a3ace2b5ac        3814998431368195   \n",
       "484  0x26b2278cb756c28d9d6e362b6dd5e8d17844fd07         359745292939940   \n",
       "485  0x2731d63bd9dcc8954a00ce371ee684f3a8073167         207116158880294   \n",
       "486  0x012430f934bc381d9f59a28ea34363bce170353d         176396852288178   \n",
       "\n",
       "            quantile  tranche_multiplier  airdrop_n  \n",
       "0    General Manager               0.450    7377049  \n",
       "1    General Manager               0.450    7377049  \n",
       "2    General Manager               0.450    7377049  \n",
       "3    General Manager               0.450    7377049  \n",
       "4    General Manager               0.450    7377049  \n",
       "..               ...                 ...        ...  \n",
       "482          Cashier               0.100    1639344  \n",
       "483          Cashier               0.100    1639344  \n",
       "484          Cashier               0.100    1639344  \n",
       "485          Cashier               0.100    1639344  \n",
       "486          Cashier               0.100    1639344  \n",
       "\n",
       "[487 rows x 5 columns]"
      ]
     },
     "execution_count": 32,
     "metadata": {},
     "output_type": "execute_result"
    }
   ],
   "source": [
    "nyan_eth_stakers[['address', 'balance', 'quantile', 'tranche_multiplier', 'airdrop_n']]"
   ]
  },
  {
   "cell_type": "code",
   "execution_count": 33,
   "metadata": {},
   "outputs": [],
   "source": [
    "nyan_eth_stakers['address'] = nyan_eth_stakers['address'].str.lower()"
   ]
  },
  {
   "cell_type": "markdown",
   "metadata": {},
   "source": [
    "### combine and extract nyan_eth and nyan_strategy"
   ]
  },
  {
   "cell_type": "code",
   "execution_count": 34,
   "metadata": {},
   "outputs": [],
   "source": [
    "df_stakers = pd.concat([\n",
    "    nyan_eth_stakers,\n",
    "    nyan_strategy_stakers\n",
    "])[['address', 'airdrop_n', 'quantile']]"
   ]
  },
  {
   "cell_type": "markdown",
   "metadata": {},
   "source": [
    "### assign compounders tokens"
   ]
  },
  {
   "cell_type": "code",
   "execution_count": 35,
   "metadata": {},
   "outputs": [],
   "source": [
    "## RUN SOLIDITY SCRIPT FOR RETRIEVING COMPOUNDERS HERE ## "
   ]
  },
  {
   "cell_type": "code",
   "execution_count": 36,
   "metadata": {},
   "outputs": [],
   "source": [
    "compounders = pd.read_csv(\n",
    "    'COMPOUNDERS-at-block-672014-raw.csv',\n",
    "    names=['address', 'block']\n",
    ")"
   ]
  },
  {
   "cell_type": "code",
   "execution_count": 37,
   "metadata": {},
   "outputs": [],
   "source": [
    "compounders['address'] = compounders['address'].str.lower()"
   ]
  },
  {
   "cell_type": "code",
   "execution_count": 38,
   "metadata": {},
   "outputs": [],
   "source": [
    "compounders_unique = compounders.drop_duplicates('address').reset_index(drop=True)"
   ]
  },
  {
   "cell_type": "code",
   "execution_count": 39,
   "metadata": {},
   "outputs": [
    {
     "data": {
      "text/html": [
       "<div>\n",
       "<style scoped>\n",
       "    .dataframe tbody tr th:only-of-type {\n",
       "        vertical-align: middle;\n",
       "    }\n",
       "\n",
       "    .dataframe tbody tr th {\n",
       "        vertical-align: top;\n",
       "    }\n",
       "\n",
       "    .dataframe thead th {\n",
       "        text-align: right;\n",
       "    }\n",
       "</style>\n",
       "<table border=\"1\" class=\"dataframe\">\n",
       "  <thead>\n",
       "    <tr style=\"text-align: right;\">\n",
       "      <th></th>\n",
       "      <th>address</th>\n",
       "      <th>block</th>\n",
       "    </tr>\n",
       "  </thead>\n",
       "  <tbody>\n",
       "    <tr>\n",
       "      <th>0</th>\n",
       "      <td>0xf9711a7ae705c9676c4d4653b7666c571fdf781a</td>\n",
       "      <td>378762</td>\n",
       "    </tr>\n",
       "    <tr>\n",
       "      <th>1</th>\n",
       "      <td>0x31573f6f29aaf7d7fdc3baefa2e6628b693cc340</td>\n",
       "      <td>378985</td>\n",
       "    </tr>\n",
       "    <tr>\n",
       "      <th>2</th>\n",
       "      <td>0x2488b49db678a9598a232bf56a90433993f522c5</td>\n",
       "      <td>379218</td>\n",
       "    </tr>\n",
       "    <tr>\n",
       "      <th>3</th>\n",
       "      <td>0xc629b9d54cd9db31cddd0e0ed8c1bb4956baf351</td>\n",
       "      <td>379237</td>\n",
       "    </tr>\n",
       "    <tr>\n",
       "      <th>4</th>\n",
       "      <td>0x5fb8b9512684d451d4e585a1a0aabfb48a253c67</td>\n",
       "      <td>379585</td>\n",
       "    </tr>\n",
       "    <tr>\n",
       "      <th>...</th>\n",
       "      <td>...</td>\n",
       "      <td>...</td>\n",
       "    </tr>\n",
       "    <tr>\n",
       "      <th>743</th>\n",
       "      <td>0x86f2ee1fc531eea5879fdd1f6e7b6dc93b6ffea7</td>\n",
       "      <td>670726</td>\n",
       "    </tr>\n",
       "    <tr>\n",
       "      <th>744</th>\n",
       "      <td>0x4ab895352356512000ffba26a0a9f81288e2f528</td>\n",
       "      <td>670988</td>\n",
       "    </tr>\n",
       "    <tr>\n",
       "      <th>745</th>\n",
       "      <td>0x83b37ddd795667bce5512a1822b8b11ad1fe07ad</td>\n",
       "      <td>671208</td>\n",
       "    </tr>\n",
       "    <tr>\n",
       "      <th>746</th>\n",
       "      <td>0xa5a611e3455394d9b86871b8e63301a73181db63</td>\n",
       "      <td>671413</td>\n",
       "    </tr>\n",
       "    <tr>\n",
       "      <th>747</th>\n",
       "      <td>0x1c3168dc0399501121f889eac08d8a10a9ec09c9</td>\n",
       "      <td>671973</td>\n",
       "    </tr>\n",
       "  </tbody>\n",
       "</table>\n",
       "<p>748 rows × 2 columns</p>\n",
       "</div>"
      ],
      "text/plain": [
       "                                         address   block\n",
       "0    0xf9711a7ae705c9676c4d4653b7666c571fdf781a   378762\n",
       "1    0x31573f6f29aaf7d7fdc3baefa2e6628b693cc340   378985\n",
       "2    0x2488b49db678a9598a232bf56a90433993f522c5   379218\n",
       "3    0xc629b9d54cd9db31cddd0e0ed8c1bb4956baf351   379237\n",
       "4    0x5fb8b9512684d451d4e585a1a0aabfb48a253c67   379585\n",
       "..                                           ...     ...\n",
       "743  0x86f2ee1fc531eea5879fdd1f6e7b6dc93b6ffea7   670726\n",
       "744  0x4ab895352356512000ffba26a0a9f81288e2f528   670988\n",
       "745  0x83b37ddd795667bce5512a1822b8b11ad1fe07ad   671208\n",
       "746  0xa5a611e3455394d9b86871b8e63301a73181db63   671413\n",
       "747  0x1c3168dc0399501121f889eac08d8a10a9ec09c9   671973\n",
       "\n",
       "[748 rows x 2 columns]"
      ]
     },
     "execution_count": 39,
     "metadata": {},
     "output_type": "execute_result"
    }
   ],
   "source": [
    "compounders_unique"
   ]
  },
  {
   "cell_type": "code",
   "execution_count": 40,
   "metadata": {},
   "outputs": [],
   "source": [
    "total_compounder_allocation = 500000000"
   ]
  },
  {
   "cell_type": "code",
   "execution_count": 41,
   "metadata": {},
   "outputs": [],
   "source": [
    "compounder_alloc_per_address = total_compounder_allocation/compounders_unique.shape[0]"
   ]
  },
  {
   "cell_type": "code",
   "execution_count": 42,
   "metadata": {},
   "outputs": [
    {
     "data": {
      "text/plain": [
       "668449.1978609626"
      ]
     },
     "execution_count": 42,
     "metadata": {},
     "output_type": "execute_result"
    }
   ],
   "source": [
    "compounder_alloc_per_address"
   ]
  },
  {
   "cell_type": "code",
   "execution_count": 43,
   "metadata": {},
   "outputs": [],
   "source": [
    "compounders_unique['airdrop_n'] = np.floor(compounder_alloc_per_address).astype(int)"
   ]
  },
  {
   "cell_type": "code",
   "execution_count": 44,
   "metadata": {},
   "outputs": [
    {
     "data": {
      "text/html": [
       "<div>\n",
       "<style scoped>\n",
       "    .dataframe tbody tr th:only-of-type {\n",
       "        vertical-align: middle;\n",
       "    }\n",
       "\n",
       "    .dataframe tbody tr th {\n",
       "        vertical-align: top;\n",
       "    }\n",
       "\n",
       "    .dataframe thead th {\n",
       "        text-align: right;\n",
       "    }\n",
       "</style>\n",
       "<table border=\"1\" class=\"dataframe\">\n",
       "  <thead>\n",
       "    <tr style=\"text-align: right;\">\n",
       "      <th></th>\n",
       "      <th>address</th>\n",
       "      <th>block</th>\n",
       "      <th>airdrop_n</th>\n",
       "    </tr>\n",
       "  </thead>\n",
       "  <tbody>\n",
       "    <tr>\n",
       "      <th>0</th>\n",
       "      <td>0xf9711a7ae705c9676c4d4653b7666c571fdf781a</td>\n",
       "      <td>378762</td>\n",
       "      <td>668449</td>\n",
       "    </tr>\n",
       "    <tr>\n",
       "      <th>1</th>\n",
       "      <td>0x31573f6f29aaf7d7fdc3baefa2e6628b693cc340</td>\n",
       "      <td>378985</td>\n",
       "      <td>668449</td>\n",
       "    </tr>\n",
       "    <tr>\n",
       "      <th>2</th>\n",
       "      <td>0x2488b49db678a9598a232bf56a90433993f522c5</td>\n",
       "      <td>379218</td>\n",
       "      <td>668449</td>\n",
       "    </tr>\n",
       "    <tr>\n",
       "      <th>3</th>\n",
       "      <td>0xc629b9d54cd9db31cddd0e0ed8c1bb4956baf351</td>\n",
       "      <td>379237</td>\n",
       "      <td>668449</td>\n",
       "    </tr>\n",
       "    <tr>\n",
       "      <th>4</th>\n",
       "      <td>0x5fb8b9512684d451d4e585a1a0aabfb48a253c67</td>\n",
       "      <td>379585</td>\n",
       "      <td>668449</td>\n",
       "    </tr>\n",
       "    <tr>\n",
       "      <th>...</th>\n",
       "      <td>...</td>\n",
       "      <td>...</td>\n",
       "      <td>...</td>\n",
       "    </tr>\n",
       "    <tr>\n",
       "      <th>743</th>\n",
       "      <td>0x86f2ee1fc531eea5879fdd1f6e7b6dc93b6ffea7</td>\n",
       "      <td>670726</td>\n",
       "      <td>668449</td>\n",
       "    </tr>\n",
       "    <tr>\n",
       "      <th>744</th>\n",
       "      <td>0x4ab895352356512000ffba26a0a9f81288e2f528</td>\n",
       "      <td>670988</td>\n",
       "      <td>668449</td>\n",
       "    </tr>\n",
       "    <tr>\n",
       "      <th>745</th>\n",
       "      <td>0x83b37ddd795667bce5512a1822b8b11ad1fe07ad</td>\n",
       "      <td>671208</td>\n",
       "      <td>668449</td>\n",
       "    </tr>\n",
       "    <tr>\n",
       "      <th>746</th>\n",
       "      <td>0xa5a611e3455394d9b86871b8e63301a73181db63</td>\n",
       "      <td>671413</td>\n",
       "      <td>668449</td>\n",
       "    </tr>\n",
       "    <tr>\n",
       "      <th>747</th>\n",
       "      <td>0x1c3168dc0399501121f889eac08d8a10a9ec09c9</td>\n",
       "      <td>671973</td>\n",
       "      <td>668449</td>\n",
       "    </tr>\n",
       "  </tbody>\n",
       "</table>\n",
       "<p>748 rows × 3 columns</p>\n",
       "</div>"
      ],
      "text/plain": [
       "                                         address   block  airdrop_n\n",
       "0    0xf9711a7ae705c9676c4d4653b7666c571fdf781a   378762     668449\n",
       "1    0x31573f6f29aaf7d7fdc3baefa2e6628b693cc340   378985     668449\n",
       "2    0x2488b49db678a9598a232bf56a90433993f522c5   379218     668449\n",
       "3    0xc629b9d54cd9db31cddd0e0ed8c1bb4956baf351   379237     668449\n",
       "4    0x5fb8b9512684d451d4e585a1a0aabfb48a253c67   379585     668449\n",
       "..                                           ...     ...        ...\n",
       "743  0x86f2ee1fc531eea5879fdd1f6e7b6dc93b6ffea7   670726     668449\n",
       "744  0x4ab895352356512000ffba26a0a9f81288e2f528   670988     668449\n",
       "745  0x83b37ddd795667bce5512a1822b8b11ad1fe07ad   671208     668449\n",
       "746  0xa5a611e3455394d9b86871b8e63301a73181db63   671413     668449\n",
       "747  0x1c3168dc0399501121f889eac08d8a10a9ec09c9   671973     668449\n",
       "\n",
       "[748 rows x 3 columns]"
      ]
     },
     "execution_count": 44,
     "metadata": {},
     "output_type": "execute_result"
    }
   ],
   "source": [
    "compounders_unique"
   ]
  },
  {
   "cell_type": "markdown",
   "metadata": {},
   "source": [
    "## export final airdrop data"
   ]
  },
  {
   "cell_type": "code",
   "execution_count": 45,
   "metadata": {},
   "outputs": [],
   "source": [
    "df = pd.concat([\n",
    "    df_stakers[['address', 'airdrop_n']],\n",
    "    compounders_unique[['address', 'airdrop_n']]\n",
    "    \n",
    "])"
   ]
  },
  {
   "cell_type": "code",
   "execution_count": 46,
   "metadata": {},
   "outputs": [],
   "source": [
    "df_final = df.groupby('address').sum().reset_index()"
   ]
  },
  {
   "cell_type": "code",
   "execution_count": 47,
   "metadata": {},
   "outputs": [],
   "source": [
    "df_final.to_csv('arbis-airdrop-recipients-20210923.csv', index=False)"
   ]
  },
  {
   "cell_type": "code",
   "execution_count": 48,
   "metadata": {},
   "outputs": [
    {
     "data": {
      "text/plain": [
       "4996071333"
      ]
     },
     "execution_count": 48,
     "metadata": {},
     "output_type": "execute_result"
    }
   ],
   "source": [
    "df_final['airdrop_n'].sum()"
   ]
  }
 ],
 "metadata": {
  "kernelspec": {
   "display_name": "Python 3",
   "language": "python",
   "name": "python3"
  },
  "language_info": {
   "codemirror_mode": {
    "name": "ipython",
    "version": 3
   },
   "file_extension": ".py",
   "mimetype": "text/x-python",
   "name": "python",
   "nbconvert_exporter": "python",
   "pygments_lexer": "ipython3",
   "version": "3.7.2"
  }
 },
 "nbformat": 4,
 "nbformat_minor": 2
}
